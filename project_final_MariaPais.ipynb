{
    "cells": [
        {
            "cell_type": "markdown",
            "metadata": {
                "collapsed": true
            },
            "source": "<center>\n    <img src=\"https://s3-api.us-geo.objectstorage.softlayer.net/cf-courses-data/CognitiveClass/Logos/organization_logo/organization_logo.png\" width=\"300\" alt=\"cognitiveclass.ai logo\"  />\n</center>\n"
        },
        {
            "cell_type": "markdown",
            "metadata": {},
            "source": "#### Add your code below following the instructions given in the course\n"
        },
        {
            "cell_type": "markdown",
            "metadata": {},
            "source": "# My Jupyter Notebook on IBM Watson Studio"
        },
        {
            "cell_type": "markdown",
            "metadata": {},
            "source": "### Maria Pais\n\nCurrently a student at ISCTE-IUL."
        },
        {
            "cell_type": "markdown",
            "metadata": {},
            "source": "*I am interested in data science because I love working with data and obtaining knowledge from it*"
        },
        {
            "cell_type": "markdown",
            "metadata": {},
            "source": "### The following code creates a list from 0 to 10:"
        },
        {
            "cell_type": "code",
            "execution_count": 2,
            "metadata": {},
            "outputs": [
                {
                    "name": "stdout",
                    "output_type": "stream",
                    "text": "[0, 1, 2, 3, 4, 5, 6, 7, 8, 9, 10]\n"
                }
            ],
            "source": "list1 = []\nfor i in range(0,11):\n    list1.append(i)\nprint(list1)"
        },
        {
            "cell_type": "markdown",
            "metadata": {},
            "source": "**Table**\n\n|**Bold**| *Italic*| ~~Scratch~~ |\n|---|---|---|\n| using **| using *| using ~~|\n\n**Bullet List**\n<br>\n\n* one\n* two\n* three\n* four\n\n\n**Link**\n\n<a href=\"https://www.ibm.com\">Visit IBM</a>"
        }
    ],
    "metadata": {
        "kernelspec": {
            "display_name": "Python 3.8 Watson NLP",
            "language": "python",
            "name": "python3"
        },
        "language_info": {
            "codemirror_mode": {
                "name": "ipython",
                "version": 3
            },
            "file_extension": ".py",
            "mimetype": "text/x-python",
            "name": "python",
            "nbconvert_exporter": "python",
            "pygments_lexer": "ipython3",
            "version": "3.8.11"
        }
    },
    "nbformat": 4,
    "nbformat_minor": 1
}